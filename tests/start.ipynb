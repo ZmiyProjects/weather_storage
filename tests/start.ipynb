{
 "cells": [
  {
   "cell_type": "code",
   "execution_count": 43,
   "metadata": {},
   "outputs": [],
   "source": [
    "import requests\n",
    "import json\n",
    "from requests.auth import HTTPBasicAuth\n",
    "import pandas as pd"
   ]
  },
  {
   "cell_type": "code",
   "execution_count": 44,
   "metadata": {},
   "outputs": [],
   "source": [
    "server_url = 'http://192.168.1.76:8010'"
   ]
  },
  {
   "cell_type": "code",
   "execution_count": 45,
   "metadata": {},
   "outputs": [
    {
     "name": "stdout",
     "output_type": "stream",
     "text": [
      "201\n",
      "201\n",
      "201\n"
     ]
    }
   ],
   "source": [
    "# создание пользователей\n",
    "admin = HTTPBasicAuth('Administrator', 'password')\n",
    "\n",
    "users = [\n",
    "  {\n",
    "    \"user_login\": \"moderator\",\n",
    "    \"password\": \"mod1\",\n",
    "    \"role_id\": 2\n",
    "  },\n",
    "  {\n",
    "    \"user_login\": \"customer\",\n",
    "    \"password\": \"cust\",\n",
    "    \"role_id\": 3\n",
    "  },\n",
    "  {\n",
    "    \"user_login\": \"station\",\n",
    "    \"password\": \"stati\",\n",
    "    \"role_id\": 4\n",
    "  },\n",
    "]\n",
    "\n",
    "\n",
    "for i in users:\n",
    "    r = requests.post(\n",
    "        url=server_url + '/user', \n",
    "        auth=admin,\n",
    "        json=i\n",
    "    )\n",
    "    print(r.status_code)\n"
   ]
  },
  {
   "cell_type": "code",
   "execution_count": 46,
   "metadata": {},
   "outputs": [],
   "source": [
    "moderator = HTTPBasicAuth('moderator', 'mod1')\n",
    "customer = HTTPBasicAuth('customer', 'cust')\n",
    "station = HTTPBasicAuth('station', 'stati')"
   ]
  },
  {
   "cell_type": "code",
   "execution_count": 47,
   "metadata": {},
   "outputs": [
    {
     "name": "stdout",
     "output_type": "stream",
     "text": [
      "201\n"
     ]
    }
   ],
   "source": [
    "with open('references/countries.json', 'r', encoding='1251') as reader:\n",
    "    values = json.load(reader)\n",
    "    r = requests.post(url=server_url + '/country', json=values, auth=moderator)\n",
    "    print(r.status_code)"
   ]
  },
  {
   "cell_type": "code",
   "execution_count": 48,
   "metadata": {},
   "outputs": [
    {
     "name": "stdout",
     "output_type": "stream",
     "text": [
      "201\n"
     ]
    }
   ],
   "source": [
    "# Загрузка регионов для России\n",
    "\n",
    "with open('references/russia_regions.json', 'r', encoding='1251') as reader:\n",
    "    values = json.load(reader)\n",
    "    # print(json.dumps(values, ensure_ascii=False, indent=4))\n",
    "    r = requests.post(url=server_url + '/country/1/region', json=values, auth=moderator)\n",
    "    print(r.status_code)"
   ]
  },
  {
   "cell_type": "code",
   "execution_count": 49,
   "metadata": {},
   "outputs": [
    {
     "name": "stdout",
     "output_type": "stream",
     "text": [
      "201\n"
     ]
    }
   ],
   "source": [
    "# Загрузка регионов для США\n",
    "\n",
    "with open('references/usa_regions.json', 'r', encoding='1251') as reader:\n",
    "    values = json.load(reader)\n",
    "    # print(json.dumps(values, ensure_ascii=False, indent=4))\n",
    "    r = requests.post(url=server_url + '/country/4/region', json=values, auth=moderator)\n",
    "    print(r.status_code)"
   ]
  },
  {
   "cell_type": "code",
   "execution_count": 50,
   "metadata": {},
   "outputs": [
    {
     "name": "stdout",
     "output_type": "stream",
     "text": [
      "201\n"
     ]
    }
   ],
   "source": [
    "# Загрузка населенных пунктов для России (Москва и московская область)\n",
    "# Поменять 20 на 1!!!\n",
    "\n",
    "with open('references/russia_locality.json', 'r', encoding='1251') as reader:\n",
    "    values = json.load(reader)\n",
    "    # print(json.dumps(values, ensure_ascii=False, indent=4))\n",
    "    r = requests.post(url=server_url + '/region/1/locality', json=values, auth=moderator)\n",
    "    print(r.status_code)"
   ]
  },
  {
   "cell_type": "code",
   "execution_count": 51,
   "metadata": {},
   "outputs": [
    {
     "name": "stdout",
     "output_type": "stream",
     "text": [
      "201\n"
     ]
    }
   ],
   "source": [
    "# Загрузка населенных пунктов для США\n",
    "\n",
    "with open('references/usa_locality.json', 'r', encoding='1251') as reader:\n",
    "    values = json.load(reader)\n",
    "    # print(json.dumps(values, ensure_ascii=False, indent=4))\n",
    "    r = requests.post(url=server_url + '/region/22/locality', json=values, auth=moderator)\n",
    "    print(r.status_code)"
   ]
  },
  {
   "cell_type": "code",
   "execution_count": 52,
   "metadata": {},
   "outputs": [
    {
     "name": "stdout",
     "output_type": "stream",
     "text": [
      "201\n"
     ]
    }
   ],
   "source": [
    "# Загрузка организаций\n",
    "\n",
    "with open('references/organizations.json', 'r', encoding='1251') as reader:\n",
    "    values = json.load(reader)\n",
    "    r = requests.post(url=server_url + '/organization', json=values, auth=moderator)\n",
    "    print(r.status_code)"
   ]
  },
  {
   "cell_type": "code",
   "execution_count": 53,
   "metadata": {},
   "outputs": [
    {
     "name": "stdout",
     "output_type": "stream",
     "text": [
      "201\n"
     ]
    }
   ],
   "source": [
    "# Загрузка метеостанций\n",
    "\n",
    "with open('references/Stations.json', 'r', encoding='1251') as reader:\n",
    "    values = json.load(reader)\n",
    "    r = requests.post(url=server_url + '/station', json=values, auth=moderator)\n",
    "    print(r.status_code)"
   ]
  },
  {
   "cell_type": "code",
   "execution_count": 54,
   "metadata": {},
   "outputs": [
    {
     "name": "stdout",
     "output_type": "stream",
     "text": [
      "201 4.85636\n",
      "201 3.589836\n",
      "201 5.631373\n",
      "201 4.405191\n",
      "201 4.216222\n",
      "201 4.925482\n",
      "201 5.341773\n",
      "201 4.515047\n",
      "201 4.50607\n",
      "201 5.277203\n",
      "201 5.604536\n",
      "201 5.079244\n",
      "201 4.723071\n",
      "201 4.717902\n",
      "201 5.035897\n",
      "201 4.614664\n",
      "201 6.228937\n",
      "201 4.937708\n",
      "201 3.95867\n"
     ]
    }
   ],
   "source": [
    "path = 'registration/json/'\n",
    "\n",
    "with open('references/station_code.json', 'r', encoding='1251') as reader:\n",
    "    for i, j in json.load(reader).items():\n",
    "        with open(path + i, 'r', encoding='utf-8') as file_reader:\n",
    "            r = requests.post(url=server_url + f'/station/{j}/registration', \n",
    "                              json=json.load(file_reader), auth=station)\n",
    "            print(r.status_code, r.elapsed.total_seconds())"
   ]
  },
  {
   "cell_type": "code",
   "execution_count": 57,
   "metadata": {},
   "outputs": [],
   "source": [
    "values = requests.get(server_url + '/station/19/agg?diapason=hours12', auth=customer)\n",
    "df = pd.DataFrame(values.json())"
   ]
  },
  {
   "cell_type": "code",
   "execution_count": 58,
   "metadata": {},
   "outputs": [
    {
     "data": {
      "text/html": [
       "<div>\n",
       "<style scoped>\n",
       "    .dataframe tbody tr th:only-of-type {\n",
       "        vertical-align: middle;\n",
       "    }\n",
       "\n",
       "    .dataframe tbody tr th {\n",
       "        vertical-align: top;\n",
       "    }\n",
       "\n",
       "    .dataframe thead th {\n",
       "        text-align: right;\n",
       "    }\n",
       "</style>\n",
       "<table border=\"1\" class=\"dataframe\">\n",
       "  <thead>\n",
       "    <tr style=\"text-align: right;\">\n",
       "      <th></th>\n",
       "      <th>station_id</th>\n",
       "      <th>registration_date</th>\n",
       "      <th>temperature_avg</th>\n",
       "      <th>temperature_max</th>\n",
       "      <th>temperature_min</th>\n",
       "      <th>dew_point_avg</th>\n",
       "      <th>dew_point_max</th>\n",
       "      <th>dew_point_min</th>\n",
       "      <th>pressure_avg</th>\n",
       "      <th>pressure_max</th>\n",
       "      <th>...</th>\n",
       "      <th>pressure_station_level_min</th>\n",
       "      <th>humidity_avg</th>\n",
       "      <th>humidity_max</th>\n",
       "      <th>humidity_min</th>\n",
       "      <th>visible_range_avg</th>\n",
       "      <th>visible_range_max</th>\n",
       "      <th>visible_range_min</th>\n",
       "      <th>wind_speed_avg</th>\n",
       "      <th>wind_speed_max</th>\n",
       "      <th>wind_speed_min</th>\n",
       "    </tr>\n",
       "  </thead>\n",
       "  <tbody>\n",
       "    <tr>\n",
       "      <th>0</th>\n",
       "      <td>19</td>\n",
       "      <td>2010-01-01T00:00:00</td>\n",
       "      <td>3.10</td>\n",
       "      <td>5.6</td>\n",
       "      <td>0.6</td>\n",
       "      <td>-4.15</td>\n",
       "      <td>0.0</td>\n",
       "      <td>-8.3</td>\n",
       "      <td>760.75</td>\n",
       "      <td>761.2</td>\n",
       "      <td>...</td>\n",
       "      <td>751.8</td>\n",
       "      <td>59.0</td>\n",
       "      <td>67.0</td>\n",
       "      <td>51.0</td>\n",
       "      <td>16.0</td>\n",
       "      <td>16.0</td>\n",
       "      <td>16.0</td>\n",
       "      <td>6.0</td>\n",
       "      <td>10.0</td>\n",
       "      <td>2.0</td>\n",
       "    </tr>\n",
       "    <tr>\n",
       "      <th>1</th>\n",
       "      <td>19</td>\n",
       "      <td>2010-01-01T12:00:00</td>\n",
       "      <td>0.30</td>\n",
       "      <td>0.6</td>\n",
       "      <td>0.0</td>\n",
       "      <td>-0.55</td>\n",
       "      <td>0.0</td>\n",
       "      <td>-1.1</td>\n",
       "      <td>761.85</td>\n",
       "      <td>762.1</td>\n",
       "      <td>...</td>\n",
       "      <td>753.1</td>\n",
       "      <td>94.0</td>\n",
       "      <td>96.0</td>\n",
       "      <td>92.0</td>\n",
       "      <td>1.6</td>\n",
       "      <td>2.4</td>\n",
       "      <td>0.8</td>\n",
       "      <td>0.0</td>\n",
       "      <td>0.0</td>\n",
       "      <td>0.0</td>\n",
       "    </tr>\n",
       "    <tr>\n",
       "      <th>2</th>\n",
       "      <td>19</td>\n",
       "      <td>2010-01-02T00:00:00</td>\n",
       "      <td>-0.55</td>\n",
       "      <td>1.1</td>\n",
       "      <td>-2.2</td>\n",
       "      <td>-10.00</td>\n",
       "      <td>-9.4</td>\n",
       "      <td>-10.6</td>\n",
       "      <td>770.00</td>\n",
       "      <td>770.8</td>\n",
       "      <td>...</td>\n",
       "      <td>760.6</td>\n",
       "      <td>49.5</td>\n",
       "      <td>58.0</td>\n",
       "      <td>41.0</td>\n",
       "      <td>16.0</td>\n",
       "      <td>16.0</td>\n",
       "      <td>16.0</td>\n",
       "      <td>3.0</td>\n",
       "      <td>5.0</td>\n",
       "      <td>1.0</td>\n",
       "    </tr>\n",
       "    <tr>\n",
       "      <th>3</th>\n",
       "      <td>19</td>\n",
       "      <td>2010-01-02T12:00:00</td>\n",
       "      <td>-11.10</td>\n",
       "      <td>-8.9</td>\n",
       "      <td>-13.3</td>\n",
       "      <td>-14.45</td>\n",
       "      <td>-13.9</td>\n",
       "      <td>-15.0</td>\n",
       "      <td>769.30</td>\n",
       "      <td>770.8</td>\n",
       "      <td>...</td>\n",
       "      <td>759.1</td>\n",
       "      <td>77.0</td>\n",
       "      <td>87.0</td>\n",
       "      <td>67.0</td>\n",
       "      <td>16.0</td>\n",
       "      <td>16.0</td>\n",
       "      <td>16.0</td>\n",
       "      <td>1.5</td>\n",
       "      <td>3.0</td>\n",
       "      <td>0.0</td>\n",
       "    </tr>\n",
       "    <tr>\n",
       "      <th>4</th>\n",
       "      <td>19</td>\n",
       "      <td>2010-01-03T00:00:00</td>\n",
       "      <td>6.70</td>\n",
       "      <td>7.8</td>\n",
       "      <td>5.6</td>\n",
       "      <td>-2.75</td>\n",
       "      <td>-2.2</td>\n",
       "      <td>-3.3</td>\n",
       "      <td>760.70</td>\n",
       "      <td>761.4</td>\n",
       "      <td>...</td>\n",
       "      <td>751.5</td>\n",
       "      <td>51.0</td>\n",
       "      <td>53.0</td>\n",
       "      <td>49.0</td>\n",
       "      <td>16.0</td>\n",
       "      <td>16.0</td>\n",
       "      <td>16.0</td>\n",
       "      <td>6.5</td>\n",
       "      <td>8.0</td>\n",
       "      <td>5.0</td>\n",
       "    </tr>\n",
       "  </tbody>\n",
       "</table>\n",
       "<p>5 rows × 23 columns</p>\n",
       "</div>"
      ],
      "text/plain": [
       "   station_id    registration_date  temperature_avg  temperature_max  \\\n",
       "0          19  2010-01-01T00:00:00             3.10              5.6   \n",
       "1          19  2010-01-01T12:00:00             0.30              0.6   \n",
       "2          19  2010-01-02T00:00:00            -0.55              1.1   \n",
       "3          19  2010-01-02T12:00:00           -11.10             -8.9   \n",
       "4          19  2010-01-03T00:00:00             6.70              7.8   \n",
       "\n",
       "   temperature_min  dew_point_avg  dew_point_max  dew_point_min  pressure_avg  \\\n",
       "0              0.6          -4.15            0.0           -8.3        760.75   \n",
       "1              0.0          -0.55            0.0           -1.1        761.85   \n",
       "2             -2.2         -10.00           -9.4          -10.6        770.00   \n",
       "3            -13.3         -14.45          -13.9          -15.0        769.30   \n",
       "4              5.6          -2.75           -2.2           -3.3        760.70   \n",
       "\n",
       "   pressure_max  ...  pressure_station_level_min  humidity_avg  humidity_max  \\\n",
       "0         761.2  ...                       751.8          59.0          67.0   \n",
       "1         762.1  ...                       753.1          94.0          96.0   \n",
       "2         770.8  ...                       760.6          49.5          58.0   \n",
       "3         770.8  ...                       759.1          77.0          87.0   \n",
       "4         761.4  ...                       751.5          51.0          53.0   \n",
       "\n",
       "   humidity_min  visible_range_avg  visible_range_max  visible_range_min  \\\n",
       "0          51.0               16.0               16.0               16.0   \n",
       "1          92.0                1.6                2.4                0.8   \n",
       "2          41.0               16.0               16.0               16.0   \n",
       "3          67.0               16.0               16.0               16.0   \n",
       "4          49.0               16.0               16.0               16.0   \n",
       "\n",
       "   wind_speed_avg  wind_speed_max  wind_speed_min  \n",
       "0             6.0            10.0             2.0  \n",
       "1             0.0             0.0             0.0  \n",
       "2             3.0             5.0             1.0  \n",
       "3             1.5             3.0             0.0  \n",
       "4             6.5             8.0             5.0  \n",
       "\n",
       "[5 rows x 23 columns]"
      ]
     },
     "execution_count": 58,
     "metadata": {},
     "output_type": "execute_result"
    }
   ],
   "source": [
    "df.head()"
   ]
  },
  {
   "cell_type": "markdown",
   "metadata": {},
   "source": [
    "# Не запускать!"
   ]
  },
  {
   "cell_type": "code",
   "execution_count": 11,
   "metadata": {},
   "outputs": [
    {
     "name": "stdout",
     "output_type": "stream",
     "text": [
      "201\n"
     ]
    }
   ],
   "source": [
    "path = 'registration/json/'\n",
    "\n",
    "with open('registration/json/Архив погоды в Шереметьево  им. А. С. Пушкина (аэропорт).json', 'r') as reader:\n",
    "    values = json.load(reader)\n",
    "    r = requests.post('http://127.0.0.1:5000/station/6/registration', json=values)\n",
    "    print(r.status_code)"
   ]
  },
  {
   "cell_type": "code",
   "execution_count": 26,
   "metadata": {},
   "outputs": [
    {
     "name": "stdout",
     "output_type": "stream",
     "text": [
      "200\n",
      "[{'CountryId': 2, 'CountryName': 'ПМ Канада', 'LandArea': 10000, 'WaterArea': 891163, 'TotalArea': 901163}]\n"
     ]
    }
   ],
   "source": [
    "# Обновить сведения о Канаде\n",
    "new_canada = {\n",
    "    \"LandArea\": 10000,\n",
    "    \"CountryName\": \"ПМ Канада\"\n",
    "}\n",
    "\n",
    "r = requests.patch('http://127.0.0.1:5000/country/2', json=new_canada, auth=admin)\n",
    "print(r.status_code)\n",
    "print(r.json())"
   ]
  },
  {
   "cell_type": "code",
   "execution_count": 7,
   "metadata": {},
   "outputs": [
    {
     "name": "stdout",
     "output_type": "stream",
     "text": [
      "204\n"
     ]
    },
    {
     "ename": "JSONDecodeError",
     "evalue": "Expecting value: line 1 column 1 (char 0)",
     "output_type": "error",
     "traceback": [
      "\u001b[1;31m---------------------------------------------------------------------------\u001b[0m",
      "\u001b[1;31mJSONDecodeError\u001b[0m                           Traceback (most recent call last)",
      "\u001b[1;32m<ipython-input-7-0a2140c68ebb>\u001b[0m in \u001b[0;36m<module>\u001b[1;34m\u001b[0m\n\u001b[0;32m      2\u001b[0m \u001b[0mr\u001b[0m \u001b[1;33m=\u001b[0m \u001b[0mrequests\u001b[0m\u001b[1;33m.\u001b[0m\u001b[0mdelete\u001b[0m\u001b[1;33m(\u001b[0m\u001b[1;34m'http://127.0.0.1:5000/country/2'\u001b[0m\u001b[1;33m)\u001b[0m\u001b[1;33m\u001b[0m\u001b[1;33m\u001b[0m\u001b[0m\n\u001b[0;32m      3\u001b[0m \u001b[0mprint\u001b[0m\u001b[1;33m(\u001b[0m\u001b[0mr\u001b[0m\u001b[1;33m.\u001b[0m\u001b[0mstatus_code\u001b[0m\u001b[1;33m)\u001b[0m\u001b[1;33m\u001b[0m\u001b[1;33m\u001b[0m\u001b[0m\n\u001b[1;32m----> 4\u001b[1;33m \u001b[0mprint\u001b[0m\u001b[1;33m(\u001b[0m\u001b[0mr\u001b[0m\u001b[1;33m.\u001b[0m\u001b[0mjson\u001b[0m\u001b[1;33m(\u001b[0m\u001b[1;33m)\u001b[0m\u001b[1;33m)\u001b[0m\u001b[1;33m\u001b[0m\u001b[1;33m\u001b[0m\u001b[0m\n\u001b[0m",
      "\u001b[1;32m~\\Anaconda3\\lib\\site-packages\\requests\\models.py\u001b[0m in \u001b[0;36mjson\u001b[1;34m(self, **kwargs)\u001b[0m\n\u001b[0;32m    895\u001b[0m                     \u001b[1;31m# used.\u001b[0m\u001b[1;33m\u001b[0m\u001b[1;33m\u001b[0m\u001b[1;33m\u001b[0m\u001b[0m\n\u001b[0;32m    896\u001b[0m                     \u001b[1;32mpass\u001b[0m\u001b[1;33m\u001b[0m\u001b[1;33m\u001b[0m\u001b[0m\n\u001b[1;32m--> 897\u001b[1;33m         \u001b[1;32mreturn\u001b[0m \u001b[0mcomplexjson\u001b[0m\u001b[1;33m.\u001b[0m\u001b[0mloads\u001b[0m\u001b[1;33m(\u001b[0m\u001b[0mself\u001b[0m\u001b[1;33m.\u001b[0m\u001b[0mtext\u001b[0m\u001b[1;33m,\u001b[0m \u001b[1;33m**\u001b[0m\u001b[0mkwargs\u001b[0m\u001b[1;33m)\u001b[0m\u001b[1;33m\u001b[0m\u001b[1;33m\u001b[0m\u001b[0m\n\u001b[0m\u001b[0;32m    898\u001b[0m \u001b[1;33m\u001b[0m\u001b[0m\n\u001b[0;32m    899\u001b[0m     \u001b[1;33m@\u001b[0m\u001b[0mproperty\u001b[0m\u001b[1;33m\u001b[0m\u001b[1;33m\u001b[0m\u001b[0m\n",
      "\u001b[1;32m~\\Anaconda3\\lib\\json\\__init__.py\u001b[0m in \u001b[0;36mloads\u001b[1;34m(s, encoding, cls, object_hook, parse_float, parse_int, parse_constant, object_pairs_hook, **kw)\u001b[0m\n\u001b[0;32m    346\u001b[0m             \u001b[0mparse_int\u001b[0m \u001b[1;32mis\u001b[0m \u001b[1;32mNone\u001b[0m \u001b[1;32mand\u001b[0m \u001b[0mparse_float\u001b[0m \u001b[1;32mis\u001b[0m \u001b[1;32mNone\u001b[0m \u001b[1;32mand\u001b[0m\u001b[1;33m\u001b[0m\u001b[1;33m\u001b[0m\u001b[0m\n\u001b[0;32m    347\u001b[0m             parse_constant is None and object_pairs_hook is None and not kw):\n\u001b[1;32m--> 348\u001b[1;33m         \u001b[1;32mreturn\u001b[0m \u001b[0m_default_decoder\u001b[0m\u001b[1;33m.\u001b[0m\u001b[0mdecode\u001b[0m\u001b[1;33m(\u001b[0m\u001b[0ms\u001b[0m\u001b[1;33m)\u001b[0m\u001b[1;33m\u001b[0m\u001b[1;33m\u001b[0m\u001b[0m\n\u001b[0m\u001b[0;32m    349\u001b[0m     \u001b[1;32mif\u001b[0m \u001b[0mcls\u001b[0m \u001b[1;32mis\u001b[0m \u001b[1;32mNone\u001b[0m\u001b[1;33m:\u001b[0m\u001b[1;33m\u001b[0m\u001b[1;33m\u001b[0m\u001b[0m\n\u001b[0;32m    350\u001b[0m         \u001b[0mcls\u001b[0m \u001b[1;33m=\u001b[0m \u001b[0mJSONDecoder\u001b[0m\u001b[1;33m\u001b[0m\u001b[1;33m\u001b[0m\u001b[0m\n",
      "\u001b[1;32m~\\Anaconda3\\lib\\json\\decoder.py\u001b[0m in \u001b[0;36mdecode\u001b[1;34m(self, s, _w)\u001b[0m\n\u001b[0;32m    335\u001b[0m \u001b[1;33m\u001b[0m\u001b[0m\n\u001b[0;32m    336\u001b[0m         \"\"\"\n\u001b[1;32m--> 337\u001b[1;33m         \u001b[0mobj\u001b[0m\u001b[1;33m,\u001b[0m \u001b[0mend\u001b[0m \u001b[1;33m=\u001b[0m \u001b[0mself\u001b[0m\u001b[1;33m.\u001b[0m\u001b[0mraw_decode\u001b[0m\u001b[1;33m(\u001b[0m\u001b[0ms\u001b[0m\u001b[1;33m,\u001b[0m \u001b[0midx\u001b[0m\u001b[1;33m=\u001b[0m\u001b[0m_w\u001b[0m\u001b[1;33m(\u001b[0m\u001b[0ms\u001b[0m\u001b[1;33m,\u001b[0m \u001b[1;36m0\u001b[0m\u001b[1;33m)\u001b[0m\u001b[1;33m.\u001b[0m\u001b[0mend\u001b[0m\u001b[1;33m(\u001b[0m\u001b[1;33m)\u001b[0m\u001b[1;33m)\u001b[0m\u001b[1;33m\u001b[0m\u001b[1;33m\u001b[0m\u001b[0m\n\u001b[0m\u001b[0;32m    338\u001b[0m         \u001b[0mend\u001b[0m \u001b[1;33m=\u001b[0m \u001b[0m_w\u001b[0m\u001b[1;33m(\u001b[0m\u001b[0ms\u001b[0m\u001b[1;33m,\u001b[0m \u001b[0mend\u001b[0m\u001b[1;33m)\u001b[0m\u001b[1;33m.\u001b[0m\u001b[0mend\u001b[0m\u001b[1;33m(\u001b[0m\u001b[1;33m)\u001b[0m\u001b[1;33m\u001b[0m\u001b[1;33m\u001b[0m\u001b[0m\n\u001b[0;32m    339\u001b[0m         \u001b[1;32mif\u001b[0m \u001b[0mend\u001b[0m \u001b[1;33m!=\u001b[0m \u001b[0mlen\u001b[0m\u001b[1;33m(\u001b[0m\u001b[0ms\u001b[0m\u001b[1;33m)\u001b[0m\u001b[1;33m:\u001b[0m\u001b[1;33m\u001b[0m\u001b[1;33m\u001b[0m\u001b[0m\n",
      "\u001b[1;32m~\\Anaconda3\\lib\\json\\decoder.py\u001b[0m in \u001b[0;36mraw_decode\u001b[1;34m(self, s, idx)\u001b[0m\n\u001b[0;32m    353\u001b[0m             \u001b[0mobj\u001b[0m\u001b[1;33m,\u001b[0m \u001b[0mend\u001b[0m \u001b[1;33m=\u001b[0m \u001b[0mself\u001b[0m\u001b[1;33m.\u001b[0m\u001b[0mscan_once\u001b[0m\u001b[1;33m(\u001b[0m\u001b[0ms\u001b[0m\u001b[1;33m,\u001b[0m \u001b[0midx\u001b[0m\u001b[1;33m)\u001b[0m\u001b[1;33m\u001b[0m\u001b[1;33m\u001b[0m\u001b[0m\n\u001b[0;32m    354\u001b[0m         \u001b[1;32mexcept\u001b[0m \u001b[0mStopIteration\u001b[0m \u001b[1;32mas\u001b[0m \u001b[0merr\u001b[0m\u001b[1;33m:\u001b[0m\u001b[1;33m\u001b[0m\u001b[1;33m\u001b[0m\u001b[0m\n\u001b[1;32m--> 355\u001b[1;33m             \u001b[1;32mraise\u001b[0m \u001b[0mJSONDecodeError\u001b[0m\u001b[1;33m(\u001b[0m\u001b[1;34m\"Expecting value\"\u001b[0m\u001b[1;33m,\u001b[0m \u001b[0ms\u001b[0m\u001b[1;33m,\u001b[0m \u001b[0merr\u001b[0m\u001b[1;33m.\u001b[0m\u001b[0mvalue\u001b[0m\u001b[1;33m)\u001b[0m \u001b[1;32mfrom\u001b[0m \u001b[1;32mNone\u001b[0m\u001b[1;33m\u001b[0m\u001b[1;33m\u001b[0m\u001b[0m\n\u001b[0m\u001b[0;32m    356\u001b[0m         \u001b[1;32mreturn\u001b[0m \u001b[0mobj\u001b[0m\u001b[1;33m,\u001b[0m \u001b[0mend\u001b[0m\u001b[1;33m\u001b[0m\u001b[1;33m\u001b[0m\u001b[0m\n",
      "\u001b[1;31mJSONDecodeError\u001b[0m: Expecting value: line 1 column 1 (char 0)"
     ]
    }
   ],
   "source": [
    "# Удалить Канаду\n",
    "r = requests.delete('http://127.0.0.1:5000/country/2')\n",
    "print(r.status_code)"
   ]
  },
  {
   "cell_type": "code",
   "execution_count": 18,
   "metadata": {},
   "outputs": [
    {
     "name": "stdout",
     "output_type": "stream",
     "text": [
      "204\n"
     ]
    }
   ],
   "source": [
    "# удалить ленинградскую область\n",
    "\n",
    "r = requests.delete('http://127.0.0.1:5000/region/24')\n",
    "print(r.status_code)"
   ]
  },
  {
   "cell_type": "code",
   "execution_count": null,
   "metadata": {},
   "outputs": [],
   "source": []
  },
  {
   "cell_type": "code",
   "execution_count": null,
   "metadata": {},
   "outputs": [],
   "source": []
  },
  {
   "cell_type": "code",
   "execution_count": 12,
   "metadata": {},
   "outputs": [],
   "source": [
    "json.dump?"
   ]
  },
  {
   "cell_type": "code",
   "execution_count": 2,
   "metadata": {},
   "outputs": [
    {
     "name": "stdout",
     "output_type": "stream",
     "text": [
      "200\n",
      "[{'OrganizationId': 1, 'OrganizationName': 'Центральное управление по гидрометеорологии и мониторингу окружающей среды', 'Address': 'ул. Образцова, д.6', 'WebSite': 'http://www.ecomos.ru/', 'LocalityId': 1}]\n"
     ]
    }
   ],
   "source": [
    "# обновление сведений о организации\n",
    "\n",
    "upd_organisation = {\n",
    "    \"WebSite\": \"http://www.ecomos.ru/\"\n",
    "}\n",
    "\n",
    "r = requests.patch('http://127.0.0.1:5000/organization/1', json=upd_organisation)\n",
    "print(r.status_code)\n",
    "print(r.json())"
   ]
  },
  {
   "cell_type": "code",
   "execution_count": 3,
   "metadata": {},
   "outputs": [
    {
     "name": "stdout",
     "output_type": "stream",
     "text": [
      "400\n"
     ]
    }
   ],
   "source": [
    "# Удаление организации\n",
    "\n",
    "r = requests.delete('http://127.0.0.1:5000/organization/3')\n",
    "print(r.status_code)"
   ]
  }
 ],
 "metadata": {
  "kernelspec": {
   "display_name": "Python 3",
   "language": "python",
   "name": "python3"
  },
  "language_info": {
   "codemirror_mode": {
    "name": "ipython",
    "version": 3
   },
   "file_extension": ".py",
   "mimetype": "text/x-python",
   "name": "python",
   "nbconvert_exporter": "python",
   "pygments_lexer": "ipython3",
   "version": "3.7.7"
  }
 },
 "nbformat": 4,
 "nbformat_minor": 4
}
