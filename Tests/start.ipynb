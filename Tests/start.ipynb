{
 "cells": [
  {
   "cell_type": "code",
   "execution_count": 1,
   "metadata": {},
   "outputs": [],
   "source": [
    "import requests\n",
    "import json"
   ]
  },
  {
   "cell_type": "code",
   "execution_count": 24,
   "metadata": {},
   "outputs": [
    {
     "name": "stdout",
     "output_type": "stream",
     "text": [
      "201\n"
     ]
    }
   ],
   "source": [
    "with open('countries.json', 'r') as reader:\n",
    "    values = json.load(reader)\n",
    "    r = requests.post('http://127.0.0.1:5000/country', json=values)\n",
    "    print(r.status_code)"
   ]
  },
  {
   "cell_type": "code",
   "execution_count": 6,
   "metadata": {},
   "outputs": [
    {
     "name": "stdout",
     "output_type": "stream",
     "text": [
      "200\n",
      "[{'CountryId': 2, 'CountryName': 'ПМ Канада', 'LandArea': 10000, 'WaterArea': 891163, 'TotalArea': 901163}]\n"
     ]
    }
   ],
   "source": [
    "# Обновить сведения о Канаде\n",
    "new_canada = {\n",
    "    \"LandArea\": 10000,\n",
    "    \"CountryName\": \"ПМ Канада\"\n",
    "}\n",
    "\n",
    "r = requests.patch('http://127.0.0.1:5000/country/2', json=new_canada)\n",
    "print(r.status_code)\n",
    "print(r.json())"
   ]
  },
  {
   "cell_type": "code",
   "execution_count": 7,
   "metadata": {},
   "outputs": [
    {
     "name": "stdout",
     "output_type": "stream",
     "text": [
      "204\n"
     ]
    },
    {
     "ename": "JSONDecodeError",
     "evalue": "Expecting value: line 1 column 1 (char 0)",
     "output_type": "error",
     "traceback": [
      "\u001b[1;31m---------------------------------------------------------------------------\u001b[0m",
      "\u001b[1;31mJSONDecodeError\u001b[0m                           Traceback (most recent call last)",
      "\u001b[1;32m<ipython-input-7-0a2140c68ebb>\u001b[0m in \u001b[0;36m<module>\u001b[1;34m\u001b[0m\n\u001b[0;32m      2\u001b[0m \u001b[0mr\u001b[0m \u001b[1;33m=\u001b[0m \u001b[0mrequests\u001b[0m\u001b[1;33m.\u001b[0m\u001b[0mdelete\u001b[0m\u001b[1;33m(\u001b[0m\u001b[1;34m'http://127.0.0.1:5000/country/2'\u001b[0m\u001b[1;33m)\u001b[0m\u001b[1;33m\u001b[0m\u001b[1;33m\u001b[0m\u001b[0m\n\u001b[0;32m      3\u001b[0m \u001b[0mprint\u001b[0m\u001b[1;33m(\u001b[0m\u001b[0mr\u001b[0m\u001b[1;33m.\u001b[0m\u001b[0mstatus_code\u001b[0m\u001b[1;33m)\u001b[0m\u001b[1;33m\u001b[0m\u001b[1;33m\u001b[0m\u001b[0m\n\u001b[1;32m----> 4\u001b[1;33m \u001b[0mprint\u001b[0m\u001b[1;33m(\u001b[0m\u001b[0mr\u001b[0m\u001b[1;33m.\u001b[0m\u001b[0mjson\u001b[0m\u001b[1;33m(\u001b[0m\u001b[1;33m)\u001b[0m\u001b[1;33m)\u001b[0m\u001b[1;33m\u001b[0m\u001b[1;33m\u001b[0m\u001b[0m\n\u001b[0m",
      "\u001b[1;32m~\\Anaconda3\\lib\\site-packages\\requests\\models.py\u001b[0m in \u001b[0;36mjson\u001b[1;34m(self, **kwargs)\u001b[0m\n\u001b[0;32m    895\u001b[0m                     \u001b[1;31m# used.\u001b[0m\u001b[1;33m\u001b[0m\u001b[1;33m\u001b[0m\u001b[1;33m\u001b[0m\u001b[0m\n\u001b[0;32m    896\u001b[0m                     \u001b[1;32mpass\u001b[0m\u001b[1;33m\u001b[0m\u001b[1;33m\u001b[0m\u001b[0m\n\u001b[1;32m--> 897\u001b[1;33m         \u001b[1;32mreturn\u001b[0m \u001b[0mcomplexjson\u001b[0m\u001b[1;33m.\u001b[0m\u001b[0mloads\u001b[0m\u001b[1;33m(\u001b[0m\u001b[0mself\u001b[0m\u001b[1;33m.\u001b[0m\u001b[0mtext\u001b[0m\u001b[1;33m,\u001b[0m \u001b[1;33m**\u001b[0m\u001b[0mkwargs\u001b[0m\u001b[1;33m)\u001b[0m\u001b[1;33m\u001b[0m\u001b[1;33m\u001b[0m\u001b[0m\n\u001b[0m\u001b[0;32m    898\u001b[0m \u001b[1;33m\u001b[0m\u001b[0m\n\u001b[0;32m    899\u001b[0m     \u001b[1;33m@\u001b[0m\u001b[0mproperty\u001b[0m\u001b[1;33m\u001b[0m\u001b[1;33m\u001b[0m\u001b[0m\n",
      "\u001b[1;32m~\\Anaconda3\\lib\\json\\__init__.py\u001b[0m in \u001b[0;36mloads\u001b[1;34m(s, encoding, cls, object_hook, parse_float, parse_int, parse_constant, object_pairs_hook, **kw)\u001b[0m\n\u001b[0;32m    346\u001b[0m             \u001b[0mparse_int\u001b[0m \u001b[1;32mis\u001b[0m \u001b[1;32mNone\u001b[0m \u001b[1;32mand\u001b[0m \u001b[0mparse_float\u001b[0m \u001b[1;32mis\u001b[0m \u001b[1;32mNone\u001b[0m \u001b[1;32mand\u001b[0m\u001b[1;33m\u001b[0m\u001b[1;33m\u001b[0m\u001b[0m\n\u001b[0;32m    347\u001b[0m             parse_constant is None and object_pairs_hook is None and not kw):\n\u001b[1;32m--> 348\u001b[1;33m         \u001b[1;32mreturn\u001b[0m \u001b[0m_default_decoder\u001b[0m\u001b[1;33m.\u001b[0m\u001b[0mdecode\u001b[0m\u001b[1;33m(\u001b[0m\u001b[0ms\u001b[0m\u001b[1;33m)\u001b[0m\u001b[1;33m\u001b[0m\u001b[1;33m\u001b[0m\u001b[0m\n\u001b[0m\u001b[0;32m    349\u001b[0m     \u001b[1;32mif\u001b[0m \u001b[0mcls\u001b[0m \u001b[1;32mis\u001b[0m \u001b[1;32mNone\u001b[0m\u001b[1;33m:\u001b[0m\u001b[1;33m\u001b[0m\u001b[1;33m\u001b[0m\u001b[0m\n\u001b[0;32m    350\u001b[0m         \u001b[0mcls\u001b[0m \u001b[1;33m=\u001b[0m \u001b[0mJSONDecoder\u001b[0m\u001b[1;33m\u001b[0m\u001b[1;33m\u001b[0m\u001b[0m\n",
      "\u001b[1;32m~\\Anaconda3\\lib\\json\\decoder.py\u001b[0m in \u001b[0;36mdecode\u001b[1;34m(self, s, _w)\u001b[0m\n\u001b[0;32m    335\u001b[0m \u001b[1;33m\u001b[0m\u001b[0m\n\u001b[0;32m    336\u001b[0m         \"\"\"\n\u001b[1;32m--> 337\u001b[1;33m         \u001b[0mobj\u001b[0m\u001b[1;33m,\u001b[0m \u001b[0mend\u001b[0m \u001b[1;33m=\u001b[0m \u001b[0mself\u001b[0m\u001b[1;33m.\u001b[0m\u001b[0mraw_decode\u001b[0m\u001b[1;33m(\u001b[0m\u001b[0ms\u001b[0m\u001b[1;33m,\u001b[0m \u001b[0midx\u001b[0m\u001b[1;33m=\u001b[0m\u001b[0m_w\u001b[0m\u001b[1;33m(\u001b[0m\u001b[0ms\u001b[0m\u001b[1;33m,\u001b[0m \u001b[1;36m0\u001b[0m\u001b[1;33m)\u001b[0m\u001b[1;33m.\u001b[0m\u001b[0mend\u001b[0m\u001b[1;33m(\u001b[0m\u001b[1;33m)\u001b[0m\u001b[1;33m)\u001b[0m\u001b[1;33m\u001b[0m\u001b[1;33m\u001b[0m\u001b[0m\n\u001b[0m\u001b[0;32m    338\u001b[0m         \u001b[0mend\u001b[0m \u001b[1;33m=\u001b[0m \u001b[0m_w\u001b[0m\u001b[1;33m(\u001b[0m\u001b[0ms\u001b[0m\u001b[1;33m,\u001b[0m \u001b[0mend\u001b[0m\u001b[1;33m)\u001b[0m\u001b[1;33m.\u001b[0m\u001b[0mend\u001b[0m\u001b[1;33m(\u001b[0m\u001b[1;33m)\u001b[0m\u001b[1;33m\u001b[0m\u001b[1;33m\u001b[0m\u001b[0m\n\u001b[0;32m    339\u001b[0m         \u001b[1;32mif\u001b[0m \u001b[0mend\u001b[0m \u001b[1;33m!=\u001b[0m \u001b[0mlen\u001b[0m\u001b[1;33m(\u001b[0m\u001b[0ms\u001b[0m\u001b[1;33m)\u001b[0m\u001b[1;33m:\u001b[0m\u001b[1;33m\u001b[0m\u001b[1;33m\u001b[0m\u001b[0m\n",
      "\u001b[1;32m~\\Anaconda3\\lib\\json\\decoder.py\u001b[0m in \u001b[0;36mraw_decode\u001b[1;34m(self, s, idx)\u001b[0m\n\u001b[0;32m    353\u001b[0m             \u001b[0mobj\u001b[0m\u001b[1;33m,\u001b[0m \u001b[0mend\u001b[0m \u001b[1;33m=\u001b[0m \u001b[0mself\u001b[0m\u001b[1;33m.\u001b[0m\u001b[0mscan_once\u001b[0m\u001b[1;33m(\u001b[0m\u001b[0ms\u001b[0m\u001b[1;33m,\u001b[0m \u001b[0midx\u001b[0m\u001b[1;33m)\u001b[0m\u001b[1;33m\u001b[0m\u001b[1;33m\u001b[0m\u001b[0m\n\u001b[0;32m    354\u001b[0m         \u001b[1;32mexcept\u001b[0m \u001b[0mStopIteration\u001b[0m \u001b[1;32mas\u001b[0m \u001b[0merr\u001b[0m\u001b[1;33m:\u001b[0m\u001b[1;33m\u001b[0m\u001b[1;33m\u001b[0m\u001b[0m\n\u001b[1;32m--> 355\u001b[1;33m             \u001b[1;32mraise\u001b[0m \u001b[0mJSONDecodeError\u001b[0m\u001b[1;33m(\u001b[0m\u001b[1;34m\"Expecting value\"\u001b[0m\u001b[1;33m,\u001b[0m \u001b[0ms\u001b[0m\u001b[1;33m,\u001b[0m \u001b[0merr\u001b[0m\u001b[1;33m.\u001b[0m\u001b[0mvalue\u001b[0m\u001b[1;33m)\u001b[0m \u001b[1;32mfrom\u001b[0m \u001b[1;32mNone\u001b[0m\u001b[1;33m\u001b[0m\u001b[1;33m\u001b[0m\u001b[0m\n\u001b[0m\u001b[0;32m    356\u001b[0m         \u001b[1;32mreturn\u001b[0m \u001b[0mobj\u001b[0m\u001b[1;33m,\u001b[0m \u001b[0mend\u001b[0m\u001b[1;33m\u001b[0m\u001b[1;33m\u001b[0m\u001b[0m\n",
      "\u001b[1;31mJSONDecodeError\u001b[0m: Expecting value: line 1 column 1 (char 0)"
     ]
    }
   ],
   "source": [
    "# Удалить Канаду\n",
    "r = requests.delete('http://127.0.0.1:5000/country/2')\n",
    "print(r.status_code)"
   ]
  },
  {
   "cell_type": "code",
   "execution_count": 25,
   "metadata": {},
   "outputs": [
    {
     "name": "stdout",
     "output_type": "stream",
     "text": [
      "201\n"
     ]
    }
   ],
   "source": [
    "# Загрузка регионов для России\n",
    "\n",
    "with open('russia_regions.json', 'r') as reader:\n",
    "    values = json.load(reader)\n",
    "    # print(json.dumps(values, ensure_ascii=False, indent=4))\n",
    "    r = requests.post('http://127.0.0.1:5000/country/1/region', json=values)\n",
    "    print(r.status_code)"
   ]
  },
  {
   "cell_type": "code",
   "execution_count": 18,
   "metadata": {},
   "outputs": [
    {
     "name": "stdout",
     "output_type": "stream",
     "text": [
      "204\n"
     ]
    }
   ],
   "source": [
    "# удалить ленинградскую область\n",
    "\n",
    "r = requests.delete('http://127.0.0.1:5000/region/24')\n",
    "print(r.status_code)"
   ]
  },
  {
   "cell_type": "code",
   "execution_count": null,
   "metadata": {},
   "outputs": [],
   "source": []
  },
  {
   "cell_type": "code",
   "execution_count": 26,
   "metadata": {},
   "outputs": [
    {
     "name": "stdout",
     "output_type": "stream",
     "text": [
      "201\n"
     ]
    }
   ],
   "source": [
    "# Загрузка населенных пунктов для России (Москва и московская область)\n",
    "# Поменять 20 на 1!!!\n",
    "\n",
    "with open('russia_locality.json', 'r') as reader:\n",
    "    values = json.load(reader)\n",
    "    # print(json.dumps(values, ensure_ascii=False, indent=4))\n",
    "    r = requests.post('http://127.0.0.1:5000/region/1/locality', json=values)\n",
    "    print(r.status_code)"
   ]
  },
  {
   "cell_type": "code",
   "execution_count": 27,
   "metadata": {},
   "outputs": [
    {
     "name": "stdout",
     "output_type": "stream",
     "text": [
      "[\n",
      "    {\n",
      "        \"OrganizationName\": \"Центральное управление по гидрометеорологии и мониторингу окружающей среды\",\n",
      "        \"Address\": \"ул. Образцова, д.6\",\n",
      "        \"WebSite\": \"http://www.ecomos.ru/\",\n",
      "        \"ParentOrganizationId\": null,\n",
      "        \"LocalityId\": 1\n",
      "    },\n",
      "    {\n",
      "        \"OrganizationName\": \"Владимирский центр по гидрометеорологии и мониторингу окружающей среды\",\n",
      "        \"Address\": \"ул. Стрелецкая, д. 20\",\n",
      "        \"WebSite\": null,\n",
      "        \"ParentOrganizationId\": 1,\n",
      "        \"LocalityId\": 2\n",
      "    },\n",
      "    {\n",
      "        \"OrganizationName\": \"Рязанский центр по гидрометеорологии и мониторингу окружающей среды\",\n",
      "        \"Address\": \" ул. Почтовая, д. 50, корп. 1\",\n",
      "        \"WebSite\": \"http://meteo62.ru\",\n",
      "        \"ParentOrganizationId\": 1,\n",
      "        \"LocalityId\": 2\n",
      "    }\n",
      "]\n",
      "201\n"
     ]
    }
   ],
   "source": [
    "# Загрузка организаций\n",
    "\n",
    "with open('organizations.json', 'r') as reader:\n",
    "    values = json.load(reader)\n",
    "    print(json.dumps(values, indent=4, ensure_ascii=False))\n",
    "    # print(json.dumps(values, ensure_ascii=False, indent=4))\n",
    "    r = requests.post('http://127.0.0.1:5000/organization', json=values)\n",
    "    print(r.status_code)"
   ]
  },
  {
   "cell_type": "code",
   "execution_count": 28,
   "metadata": {},
   "outputs": [
    {
     "name": "stdout",
     "output_type": "stream",
     "text": [
      "[\n",
      "    {\n",
      "        \"StationName\": \"Мурманск город\",\n",
      "        \"Latitude\": 69.0,\n",
      "        \"Longitude\": 33.1,\n",
      "        \"Height\": 51,\n",
      "        \"RegionId\": 2,\n",
      "        \"OrganizationId\": 1\n",
      "    },\n",
      "    {\n",
      "        \"StationName\": \"Архангельск город\",\n",
      "        \"Latitude\": 64.4,\n",
      "        \"Longitude\": 40.7,\n",
      "        \"Height\": 8,\n",
      "        \"RegionId\": 3,\n",
      "        \"OrganizationId\": 1\n",
      "    },\n",
      "    {\n",
      "        \"StationName\": \"Магадан город\",\n",
      "        \"Latitude\": 59.6,\n",
      "        \"Longitude\": 150.8,\n",
      "        \"Height\": 116,\n",
      "        \"RegionId\": 4,\n",
      "        \"OrganizationId\": 1\n",
      "    },\n",
      "    {\n",
      "        \"StationName\": \"Санкт-Петербург ИЦП\",\n",
      "        \"Latitude\": 60.0,\n",
      "        \"Longitude\": 30.3,\n",
      "        \"Height\": 6,\n",
      "        \"RegionId\": 5,\n",
      "        \"OrganizationId\": 1\n",
      "    },\n",
      "    {\n",
      "        \"StationName\": \"Нижний Новгород Мыза\",\n",
      "        \"Latitude\": 56.3,\n",
      "        \"Longitude\": 44.0,\n",
      "        \"Height\": 157,\n",
      "        \"RegionId\": 6,\n",
      "        \"OrganizationId\": 1\n",
      "    },\n",
      "    {\n",
      "        \"StationName\": \"Москва Шереметьево\",\n",
      "        \"Latitude\": 56.0,\n",
      "        \"Longitude\": 37.5,\n",
      "        \"Height\": 189,\n",
      "        \"RegionId\": 1,\n",
      "        \"OrganizationId\": 1\n",
      "    },\n",
      "    {\n",
      "        \"StationName\": \"Казань\",\n",
      "        \"Latitude\": 55.6,\n",
      "        \"Longitude\": 49.3,\n",
      "        \"Height\": 116,\n",
      "        \"RegionId\": 7,\n",
      "        \"OrganizationId\": 1\n",
      "    },\n",
      "    {\n",
      "        \"StationName\": \"Пенза Терновка\",\n",
      "        \"Latitude\": 53.1,\n",
      "        \"Longitude\": 45.0,\n",
      "        \"Height\": 177,\n",
      "        \"RegionId\": 8,\n",
      "        \"OrganizationId\": 1\n",
      "    },\n",
      "    {\n",
      "        \"StationName\": \"Екатеринбург город\",\n",
      "        \"Latitude\": 56.8,\n",
      "        \"Longitude\": 60.6,\n",
      "        \"Height\": 283,\n",
      "        \"RegionId\": 9,\n",
      "        \"OrganizationId\": 1\n",
      "    },\n",
      "    {\n",
      "        \"StationName\": \"Омск город\",\n",
      "        \"Latitude\": 55.0,\n",
      "        \"Longitude\": 73.4,\n",
      "        \"Height\": 122,\n",
      "        \"RegionId\": 10,\n",
      "        \"OrganizationId\": 1\n",
      "    },\n",
      "    {\n",
      "        \"StationName\": \"Уфа город\",\n",
      "        \"Latitude\": 54.7,\n",
      "        \"Longitude\": 55.8,\n",
      "        \"Height\": 104,\n",
      "        \"RegionId\": 11,\n",
      "        \"OrganizationId\": 1\n",
      "    },\n",
      "    {\n",
      "        \"StationName\": \"Самара обсерватория\",\n",
      "        \"Latitude\": 53.3,\n",
      "        \"Longitude\": 50.1,\n",
      "        \"Height\": 130,\n",
      "        \"RegionId\": 12,\n",
      "        \"OrganizationId\": 1\n",
      "    },\n",
      "    {\n",
      "        \"StationName\": \"Иркутск город\",\n",
      "        \"Latitude\": 52.3,\n",
      "        \"Longitude\": 104.3,\n",
      "        \"Height\": 485,\n",
      "        \"RegionId\": 13,\n",
      "        \"OrganizationId\": 1\n",
      "    },\n",
      "    {\n",
      "        \"StationName\": \"Чита город\",\n",
      "        \"Latitude\": 52.1,\n",
      "        \"Longitude\": 113.3,\n",
      "        \"Height\": 680,\n",
      "        \"RegionId\": 14,\n",
      "        \"OrganizationId\": 1\n",
      "    },\n",
      "    {\n",
      "        \"StationName\": \"Хабаровск\",\n",
      "        \"Latitude\": 48.5,\n",
      "        \"Longitude\": 135.2,\n",
      "        \"Height\": 76,\n",
      "        \"RegionId\": 15,\n",
      "        \"OrganizationId\": 1\n",
      "    },\n",
      "    {\n",
      "        \"StationName\": \"Петропавловск-Камч, обсерватория\",\n",
      "        \"Latitude\": 53.0,\n",
      "        \"Longitude\": 158.6,\n",
      "        \"Height\": 24,\n",
      "        \"RegionId\": 16,\n",
      "        \"OrganizationId\": 2\n",
      "    },\n",
      "    {\n",
      "        \"StationName\": \"Симферополь\",\n",
      "        \"Latitude\": 44.7,\n",
      "        \"Longitude\": 34.1,\n",
      "        \"Height\": 181,\n",
      "        \"RegionId\": 17,\n",
      "        \"OrganizationId\": 2\n",
      "    },\n",
      "    {\n",
      "        \"StationName\": \"Сочи Адлер\",\n",
      "        \"Latitude\": 43.4,\n",
      "        \"Longitude\": 39.9,\n",
      "        \"Height\": 13,\n",
      "        \"RegionId\": 18,\n",
      "        \"OrganizationId\": 3\n",
      "    }\n",
      "]\n",
      "201\n"
     ]
    }
   ],
   "source": [
    "# Загрузка метеостанций\n",
    "\n",
    "with open('Stations.json', 'r') as reader:\n",
    "    values = json.load(reader)\n",
    "    r = requests.post('http://127.0.0.1:5000/station', json=values)\n",
    "    print(r.status_code)"
   ]
  },
  {
   "cell_type": "code",
   "execution_count": 29,
   "metadata": {},
   "outputs": [
    {
     "name": "stdout",
     "output_type": "stream",
     "text": [
      "201\n"
     ]
    }
   ],
   "source": [
    "with open('registration/json/Архив погоды в Шереметьево  им. А. С. Пушкина (аэропорт).json', 'r') as reader:\n",
    "    values = json.load(reader)\n",
    "    r = requests.post('http://127.0.0.1:5000/station/6/registration', json=values)\n",
    "    print(r.status_code)"
   ]
  },
  {
   "cell_type": "code",
   "execution_count": 2,
   "metadata": {},
   "outputs": [
    {
     "name": "stdout",
     "output_type": "stream",
     "text": [
      "200\n",
      "[{'OrganizationId': 1, 'OrganizationName': 'Центральное управление по гидрометеорологии и мониторингу окружающей среды', 'Address': 'ул. Образцова, д.6', 'WebSite': 'http://www.ecomos.ru/', 'LocalityId': 1}]\n"
     ]
    }
   ],
   "source": [
    "# обновление сведений о организации\n",
    "\n",
    "upd_organisation = {\n",
    "    \"WebSite\": \"http://www.ecomos.ru/\"\n",
    "}\n",
    "\n",
    "r = requests.patch('http://127.0.0.1:5000/organization/1', json=upd_organisation)\n",
    "print(r.status_code)\n",
    "print(r.json())"
   ]
  },
  {
   "cell_type": "code",
   "execution_count": 3,
   "metadata": {},
   "outputs": [
    {
     "name": "stdout",
     "output_type": "stream",
     "text": [
      "400\n"
     ]
    }
   ],
   "source": [
    "# Удаление организации\n",
    "\n",
    "r = requests.delete('http://127.0.0.1:5000/organization/3')\n",
    "print(r.status_code)"
   ]
  }
 ],
 "metadata": {
  "kernelspec": {
   "display_name": "Python 3",
   "language": "python",
   "name": "python3"
  },
  "language_info": {
   "codemirror_mode": {
    "name": "ipython",
    "version": 3
   },
   "file_extension": ".py",
   "mimetype": "text/x-python",
   "name": "python",
   "nbconvert_exporter": "python",
   "pygments_lexer": "ipython3",
   "version": "3.7.6"
  }
 },
 "nbformat": 4,
 "nbformat_minor": 4
}
