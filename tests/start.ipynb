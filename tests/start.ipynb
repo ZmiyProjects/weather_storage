{
 "cells": [
  {
   "cell_type": "code",
   "execution_count": 1,
   "metadata": {},
   "outputs": [],
   "source": [
    "import requests\n",
    "import json\n",
    "from requests.auth import HTTPBasicAuth\n",
    "import pandas as pd"
   ]
  },
  {
   "cell_type": "code",
   "execution_count": 2,
   "metadata": {},
   "outputs": [],
   "source": [
    "server_url = 'http://192.168.1.64:8010'"
   ]
  },
  {
   "cell_type": "code",
   "execution_count": 57,
   "metadata": {},
   "outputs": [
    {
     "name": "stdout",
     "output_type": "stream",
     "text": [
      "201\n",
      "201\n",
      "201\n"
     ]
    }
   ],
   "source": [
    "# создание пользователей\n",
    "admin = HTTPBasicAuth('Administrator', 'password')\n",
    "\n",
    "users = [\n",
    "  {\n",
    "    \"user_login\": \"moderator\",\n",
    "    \"password\": \"mod1\",\n",
    "    \"role_id\": 2\n",
    "  },\n",
    "  {\n",
    "    \"user_login\": \"customer\",\n",
    "    \"password\": \"cust\",\n",
    "    \"role_id\": 3\n",
    "  },\n",
    "  {\n",
    "    \"user_login\": \"station\",\n",
    "    \"password\": \"stati\",\n",
    "    \"role_id\": 4\n",
    "  },\n",
    "]\n",
    "\n",
    "\n",
    "for i in users:\n",
    "    r = requests.post(\n",
    "        url=server_url + '/user', \n",
    "        auth=admin,\n",
    "        json=i\n",
    "    )\n",
    "    print(r.status_code)\n"
   ]
  },
  {
   "cell_type": "code",
   "execution_count": 3,
   "metadata": {},
   "outputs": [],
   "source": [
    "moderator = HTTPBasicAuth('moderator', 'mod1')\n",
    "customer = HTTPBasicAuth('customer', 'cust')\n",
    "station = HTTPBasicAuth('station', 'stati')"
   ]
  },
  {
   "cell_type": "code",
   "execution_count": 4,
   "metadata": {},
   "outputs": [
    {
     "name": "stdout",
     "output_type": "stream",
     "text": [
      "201\n"
     ]
    }
   ],
   "source": [
    "with open('references/countries.json', 'r', encoding='1251') as reader:\n",
    "    values = json.load(reader)\n",
    "    r = requests.post(url=server_url + '/country', json=values, auth=moderator)\n",
    "    print(r.status_code)"
   ]
  },
  {
   "cell_type": "code",
   "execution_count": 5,
   "metadata": {},
   "outputs": [
    {
     "name": "stdout",
     "output_type": "stream",
     "text": [
      "201\n"
     ]
    }
   ],
   "source": [
    "# Загрузка регионов для России\n",
    "\n",
    "with open('references/russia_regions.json', 'r', encoding='1251') as reader:\n",
    "    values = json.load(reader)\n",
    "    # print(json.dumps(values, ensure_ascii=False, indent=4))\n",
    "    r = requests.post(url=server_url + '/country/1/region', json=values, auth=moderator)\n",
    "    print(r.status_code)"
   ]
  },
  {
   "cell_type": "code",
   "execution_count": 6,
   "metadata": {},
   "outputs": [
    {
     "name": "stdout",
     "output_type": "stream",
     "text": [
      "201\n"
     ]
    }
   ],
   "source": [
    "# Загрузка населенных пунктов для России (Москва и московская область)\n",
    "# Поменять 20 на 1!!!\n",
    "\n",
    "with open('references/russia_locality.json', 'r', encoding='1251') as reader:\n",
    "    values = json.load(reader)\n",
    "    # print(json.dumps(values, ensure_ascii=False, indent=4))\n",
    "    r = requests.post(url=server_url + '/region/1/locality', json=values, auth=moderator)\n",
    "    print(r.status_code)"
   ]
  },
  {
   "cell_type": "code",
   "execution_count": 7,
   "metadata": {},
   "outputs": [
    {
     "name": "stdout",
     "output_type": "stream",
     "text": [
      "201\n"
     ]
    }
   ],
   "source": [
    "# Загрузка организаций\n",
    "\n",
    "with open('references/organizations.json', 'r', encoding='1251') as reader:\n",
    "    values = json.load(reader)\n",
    "    r = requests.post(url=server_url + '/organization', json=values, auth=moderator)\n",
    "    print(r.status_code)"
   ]
  },
  {
   "cell_type": "code",
   "execution_count": 8,
   "metadata": {},
   "outputs": [
    {
     "name": "stdout",
     "output_type": "stream",
     "text": [
      "201\n"
     ]
    }
   ],
   "source": [
    "# Загрузка метеостанций\n",
    "\n",
    "with open('references/Stations.json', 'r', encoding='1251') as reader:\n",
    "    values = json.load(reader)\n",
    "    r = requests.post(url=server_url + '/station', json=values, auth=moderator)\n",
    "    print(r.status_code)"
   ]
  },
  {
   "cell_type": "code",
   "execution_count": 9,
   "metadata": {},
   "outputs": [
    {
     "name": "stdout",
     "output_type": "stream",
     "text": [
      "201 6.18499\n",
      "201 7.132589\n",
      "201 8.669788\n",
      "201 8.108637\n",
      "201 8.733444\n",
      "201 6.502645\n",
      "201 6.365877\n",
      "201 5.91381\n",
      "201 6.844576\n",
      "201 13.944017\n",
      "201 11.977462\n",
      "201 9.129795\n",
      "201 6.020149\n",
      "201 5.094849\n",
      "201 5.690797\n",
      "201 12.855518\n",
      "201 14.409407\n",
      "201 5.630266\n"
     ]
    }
   ],
   "source": [
    "path = 'registration/json/'\n",
    "\n",
    "with open('references/station_code.json', 'r', encoding='1251') as reader:\n",
    "    for i, j in json.load(reader).items():\n",
    "        with open(path + i, 'r', encoding='utf-8') as file_reader:\n",
    "            r = requests.post(url=server_url + f'/station/{j}/registration', \n",
    "                              json=json.load(file_reader), auth=station)\n",
    "            print(r.status_code, r.elapsed.total_seconds())"
   ]
  },
  {
   "cell_type": "code",
   "execution_count": 10,
   "metadata": {},
   "outputs": [],
   "source": [
    "values = requests.get(server_url + '/station/1/agg?diapason=hours12', auth=customer)\n",
    "df = pd.DataFrame(values.json())"
   ]
  },
  {
   "cell_type": "code",
   "execution_count": 11,
   "metadata": {},
   "outputs": [
    {
     "data": {
      "text/html": [
       "<div>\n",
       "<style scoped>\n",
       "    .dataframe tbody tr th:only-of-type {\n",
       "        vertical-align: middle;\n",
       "    }\n",
       "\n",
       "    .dataframe tbody tr th {\n",
       "        vertical-align: top;\n",
       "    }\n",
       "\n",
       "    .dataframe thead th {\n",
       "        text-align: right;\n",
       "    }\n",
       "</style>\n",
       "<table border=\"1\" class=\"dataframe\">\n",
       "  <thead>\n",
       "    <tr style=\"text-align: right;\">\n",
       "      <th></th>\n",
       "      <th>station_id</th>\n",
       "      <th>registration_date</th>\n",
       "      <th>temperature_avg</th>\n",
       "      <th>temperature_max</th>\n",
       "      <th>temperature_min</th>\n",
       "      <th>dew_point_avg</th>\n",
       "      <th>dew_point_max</th>\n",
       "      <th>dew_point_min</th>\n",
       "      <th>pressure_avg</th>\n",
       "      <th>pressure_max</th>\n",
       "      <th>...</th>\n",
       "      <th>pressure_station_level_min</th>\n",
       "      <th>humidity_avg</th>\n",
       "      <th>humidity_max</th>\n",
       "      <th>humidity_min</th>\n",
       "      <th>visible_range_avg</th>\n",
       "      <th>visible_range_max</th>\n",
       "      <th>visible_range_min</th>\n",
       "      <th>wind_speed_avg</th>\n",
       "      <th>wind_speed_max</th>\n",
       "      <th>wind_speed_min</th>\n",
       "    </tr>\n",
       "  </thead>\n",
       "  <tbody>\n",
       "    <tr>\n",
       "      <th>0</th>\n",
       "      <td>1</td>\n",
       "      <td>2019-03-15T00:00:00</td>\n",
       "      <td>-3.08</td>\n",
       "      <td>-1.7</td>\n",
       "      <td>-6.5</td>\n",
       "      <td>-6.08</td>\n",
       "      <td>-4.7</td>\n",
       "      <td>-8.5</td>\n",
       "      <td>755.95</td>\n",
       "      <td>759.1</td>\n",
       "      <td>...</td>\n",
       "      <td>753.5</td>\n",
       "      <td>80.00</td>\n",
       "      <td>86.0</td>\n",
       "      <td>74.0</td>\n",
       "      <td>15.25</td>\n",
       "      <td>21.0</td>\n",
       "      <td>10.0</td>\n",
       "      <td>3.25</td>\n",
       "      <td>4.0</td>\n",
       "      <td>3.0</td>\n",
       "    </tr>\n",
       "    <tr>\n",
       "      <th>1</th>\n",
       "      <td>1</td>\n",
       "      <td>2015-06-17T00:00:00</td>\n",
       "      <td>9.58</td>\n",
       "      <td>11.4</td>\n",
       "      <td>8.6</td>\n",
       "      <td>6.33</td>\n",
       "      <td>7.1</td>\n",
       "      <td>5.7</td>\n",
       "      <td>752.35</td>\n",
       "      <td>754.6</td>\n",
       "      <td>...</td>\n",
       "      <td>748.5</td>\n",
       "      <td>80.50</td>\n",
       "      <td>85.0</td>\n",
       "      <td>73.0</td>\n",
       "      <td>10.00</td>\n",
       "      <td>10.0</td>\n",
       "      <td>10.0</td>\n",
       "      <td>3.50</td>\n",
       "      <td>7.0</td>\n",
       "      <td>2.0</td>\n",
       "    </tr>\n",
       "    <tr>\n",
       "      <th>2</th>\n",
       "      <td>1</td>\n",
       "      <td>2012-09-22T12:00:00</td>\n",
       "      <td>8.65</td>\n",
       "      <td>9.8</td>\n",
       "      <td>7.7</td>\n",
       "      <td>6.60</td>\n",
       "      <td>7.1</td>\n",
       "      <td>6.1</td>\n",
       "      <td>764.53</td>\n",
       "      <td>766.6</td>\n",
       "      <td>...</td>\n",
       "      <td>762.2</td>\n",
       "      <td>87.25</td>\n",
       "      <td>93.0</td>\n",
       "      <td>78.0</td>\n",
       "      <td>13.50</td>\n",
       "      <td>19.0</td>\n",
       "      <td>10.0</td>\n",
       "      <td>2.00</td>\n",
       "      <td>3.0</td>\n",
       "      <td>1.0</td>\n",
       "    </tr>\n",
       "    <tr>\n",
       "      <th>3</th>\n",
       "      <td>1</td>\n",
       "      <td>2015-09-27T12:00:00</td>\n",
       "      <td>9.70</td>\n",
       "      <td>10.3</td>\n",
       "      <td>9.1</td>\n",
       "      <td>9.30</td>\n",
       "      <td>10.0</td>\n",
       "      <td>8.8</td>\n",
       "      <td>760.93</td>\n",
       "      <td>762.0</td>\n",
       "      <td>...</td>\n",
       "      <td>759.4</td>\n",
       "      <td>97.50</td>\n",
       "      <td>100.0</td>\n",
       "      <td>91.0</td>\n",
       "      <td>14.25</td>\n",
       "      <td>19.0</td>\n",
       "      <td>10.0</td>\n",
       "      <td>2.25</td>\n",
       "      <td>3.0</td>\n",
       "      <td>2.0</td>\n",
       "    </tr>\n",
       "    <tr>\n",
       "      <th>4</th>\n",
       "      <td>1</td>\n",
       "      <td>2015-11-28T00:00:00</td>\n",
       "      <td>4.28</td>\n",
       "      <td>4.9</td>\n",
       "      <td>3.1</td>\n",
       "      <td>3.40</td>\n",
       "      <td>4.5</td>\n",
       "      <td>0.8</td>\n",
       "      <td>744.68</td>\n",
       "      <td>746.7</td>\n",
       "      <td>...</td>\n",
       "      <td>741.1</td>\n",
       "      <td>94.50</td>\n",
       "      <td>99.0</td>\n",
       "      <td>85.0</td>\n",
       "      <td>17.75</td>\n",
       "      <td>22.0</td>\n",
       "      <td>10.0</td>\n",
       "      <td>4.00</td>\n",
       "      <td>5.0</td>\n",
       "      <td>3.0</td>\n",
       "    </tr>\n",
       "  </tbody>\n",
       "</table>\n",
       "<p>5 rows × 23 columns</p>\n",
       "</div>"
      ],
      "text/plain": [
       "   station_id    registration_date  temperature_avg  temperature_max  \\\n",
       "0           1  2019-03-15T00:00:00            -3.08             -1.7   \n",
       "1           1  2015-06-17T00:00:00             9.58             11.4   \n",
       "2           1  2012-09-22T12:00:00             8.65              9.8   \n",
       "3           1  2015-09-27T12:00:00             9.70             10.3   \n",
       "4           1  2015-11-28T00:00:00             4.28              4.9   \n",
       "\n",
       "   temperature_min  dew_point_avg  dew_point_max  dew_point_min  pressure_avg  \\\n",
       "0             -6.5          -6.08           -4.7           -8.5        755.95   \n",
       "1              8.6           6.33            7.1            5.7        752.35   \n",
       "2              7.7           6.60            7.1            6.1        764.53   \n",
       "3              9.1           9.30           10.0            8.8        760.93   \n",
       "4              3.1           3.40            4.5            0.8        744.68   \n",
       "\n",
       "   pressure_max  ...  pressure_station_level_min  humidity_avg  humidity_max  \\\n",
       "0         759.1  ...                       753.5         80.00          86.0   \n",
       "1         754.6  ...                       748.5         80.50          85.0   \n",
       "2         766.6  ...                       762.2         87.25          93.0   \n",
       "3         762.0  ...                       759.4         97.50         100.0   \n",
       "4         746.7  ...                       741.1         94.50          99.0   \n",
       "\n",
       "   humidity_min  visible_range_avg  visible_range_max  visible_range_min  \\\n",
       "0          74.0              15.25               21.0               10.0   \n",
       "1          73.0              10.00               10.0               10.0   \n",
       "2          78.0              13.50               19.0               10.0   \n",
       "3          91.0              14.25               19.0               10.0   \n",
       "4          85.0              17.75               22.0               10.0   \n",
       "\n",
       "   wind_speed_avg  wind_speed_max  wind_speed_min  \n",
       "0            3.25             4.0             3.0  \n",
       "1            3.50             7.0             2.0  \n",
       "2            2.00             3.0             1.0  \n",
       "3            2.25             3.0             2.0  \n",
       "4            4.00             5.0             3.0  \n",
       "\n",
       "[5 rows x 23 columns]"
      ]
     },
     "execution_count": 11,
     "metadata": {},
     "output_type": "execute_result"
    }
   ],
   "source": [
    "df.head()"
   ]
  },
  {
   "cell_type": "markdown",
   "metadata": {},
   "source": [
    "# Не запускать!"
   ]
  },
  {
   "cell_type": "code",
   "execution_count": 11,
   "metadata": {},
   "outputs": [
    {
     "name": "stdout",
     "output_type": "stream",
     "text": [
      "201\n"
     ]
    }
   ],
   "source": [
    "path = 'registration/json/'\n",
    "\n",
    "with open('registration/json/Архив погоды в Шереметьево  им. А. С. Пушкина (аэропорт).json', 'r') as reader:\n",
    "    values = json.load(reader)\n",
    "    r = requests.post('http://127.0.0.1:5000/station/6/registration', json=values)\n",
    "    print(r.status_code)"
   ]
  },
  {
   "cell_type": "code",
   "execution_count": 26,
   "metadata": {},
   "outputs": [
    {
     "name": "stdout",
     "output_type": "stream",
     "text": [
      "200\n",
      "[{'CountryId': 2, 'CountryName': 'ПМ Канада', 'LandArea': 10000, 'WaterArea': 891163, 'TotalArea': 901163}]\n"
     ]
    }
   ],
   "source": [
    "# Обновить сведения о Канаде\n",
    "new_canada = {\n",
    "    \"LandArea\": 10000,\n",
    "    \"CountryName\": \"ПМ Канада\"\n",
    "}\n",
    "\n",
    "r = requests.patch('http://127.0.0.1:5000/country/2', json=new_canada, auth=admin)\n",
    "print(r.status_code)\n",
    "print(r.json())"
   ]
  },
  {
   "cell_type": "code",
   "execution_count": 7,
   "metadata": {},
   "outputs": [
    {
     "name": "stdout",
     "output_type": "stream",
     "text": [
      "204\n"
     ]
    },
    {
     "ename": "JSONDecodeError",
     "evalue": "Expecting value: line 1 column 1 (char 0)",
     "output_type": "error",
     "traceback": [
      "\u001b[1;31m---------------------------------------------------------------------------\u001b[0m",
      "\u001b[1;31mJSONDecodeError\u001b[0m                           Traceback (most recent call last)",
      "\u001b[1;32m<ipython-input-7-0a2140c68ebb>\u001b[0m in \u001b[0;36m<module>\u001b[1;34m\u001b[0m\n\u001b[0;32m      2\u001b[0m \u001b[0mr\u001b[0m \u001b[1;33m=\u001b[0m \u001b[0mrequests\u001b[0m\u001b[1;33m.\u001b[0m\u001b[0mdelete\u001b[0m\u001b[1;33m(\u001b[0m\u001b[1;34m'http://127.0.0.1:5000/country/2'\u001b[0m\u001b[1;33m)\u001b[0m\u001b[1;33m\u001b[0m\u001b[1;33m\u001b[0m\u001b[0m\n\u001b[0;32m      3\u001b[0m \u001b[0mprint\u001b[0m\u001b[1;33m(\u001b[0m\u001b[0mr\u001b[0m\u001b[1;33m.\u001b[0m\u001b[0mstatus_code\u001b[0m\u001b[1;33m)\u001b[0m\u001b[1;33m\u001b[0m\u001b[1;33m\u001b[0m\u001b[0m\n\u001b[1;32m----> 4\u001b[1;33m \u001b[0mprint\u001b[0m\u001b[1;33m(\u001b[0m\u001b[0mr\u001b[0m\u001b[1;33m.\u001b[0m\u001b[0mjson\u001b[0m\u001b[1;33m(\u001b[0m\u001b[1;33m)\u001b[0m\u001b[1;33m)\u001b[0m\u001b[1;33m\u001b[0m\u001b[1;33m\u001b[0m\u001b[0m\n\u001b[0m",
      "\u001b[1;32m~\\Anaconda3\\lib\\site-packages\\requests\\models.py\u001b[0m in \u001b[0;36mjson\u001b[1;34m(self, **kwargs)\u001b[0m\n\u001b[0;32m    895\u001b[0m                     \u001b[1;31m# used.\u001b[0m\u001b[1;33m\u001b[0m\u001b[1;33m\u001b[0m\u001b[1;33m\u001b[0m\u001b[0m\n\u001b[0;32m    896\u001b[0m                     \u001b[1;32mpass\u001b[0m\u001b[1;33m\u001b[0m\u001b[1;33m\u001b[0m\u001b[0m\n\u001b[1;32m--> 897\u001b[1;33m         \u001b[1;32mreturn\u001b[0m \u001b[0mcomplexjson\u001b[0m\u001b[1;33m.\u001b[0m\u001b[0mloads\u001b[0m\u001b[1;33m(\u001b[0m\u001b[0mself\u001b[0m\u001b[1;33m.\u001b[0m\u001b[0mtext\u001b[0m\u001b[1;33m,\u001b[0m \u001b[1;33m**\u001b[0m\u001b[0mkwargs\u001b[0m\u001b[1;33m)\u001b[0m\u001b[1;33m\u001b[0m\u001b[1;33m\u001b[0m\u001b[0m\n\u001b[0m\u001b[0;32m    898\u001b[0m \u001b[1;33m\u001b[0m\u001b[0m\n\u001b[0;32m    899\u001b[0m     \u001b[1;33m@\u001b[0m\u001b[0mproperty\u001b[0m\u001b[1;33m\u001b[0m\u001b[1;33m\u001b[0m\u001b[0m\n",
      "\u001b[1;32m~\\Anaconda3\\lib\\json\\__init__.py\u001b[0m in \u001b[0;36mloads\u001b[1;34m(s, encoding, cls, object_hook, parse_float, parse_int, parse_constant, object_pairs_hook, **kw)\u001b[0m\n\u001b[0;32m    346\u001b[0m             \u001b[0mparse_int\u001b[0m \u001b[1;32mis\u001b[0m \u001b[1;32mNone\u001b[0m \u001b[1;32mand\u001b[0m \u001b[0mparse_float\u001b[0m \u001b[1;32mis\u001b[0m \u001b[1;32mNone\u001b[0m \u001b[1;32mand\u001b[0m\u001b[1;33m\u001b[0m\u001b[1;33m\u001b[0m\u001b[0m\n\u001b[0;32m    347\u001b[0m             parse_constant is None and object_pairs_hook is None and not kw):\n\u001b[1;32m--> 348\u001b[1;33m         \u001b[1;32mreturn\u001b[0m \u001b[0m_default_decoder\u001b[0m\u001b[1;33m.\u001b[0m\u001b[0mdecode\u001b[0m\u001b[1;33m(\u001b[0m\u001b[0ms\u001b[0m\u001b[1;33m)\u001b[0m\u001b[1;33m\u001b[0m\u001b[1;33m\u001b[0m\u001b[0m\n\u001b[0m\u001b[0;32m    349\u001b[0m     \u001b[1;32mif\u001b[0m \u001b[0mcls\u001b[0m \u001b[1;32mis\u001b[0m \u001b[1;32mNone\u001b[0m\u001b[1;33m:\u001b[0m\u001b[1;33m\u001b[0m\u001b[1;33m\u001b[0m\u001b[0m\n\u001b[0;32m    350\u001b[0m         \u001b[0mcls\u001b[0m \u001b[1;33m=\u001b[0m \u001b[0mJSONDecoder\u001b[0m\u001b[1;33m\u001b[0m\u001b[1;33m\u001b[0m\u001b[0m\n",
      "\u001b[1;32m~\\Anaconda3\\lib\\json\\decoder.py\u001b[0m in \u001b[0;36mdecode\u001b[1;34m(self, s, _w)\u001b[0m\n\u001b[0;32m    335\u001b[0m \u001b[1;33m\u001b[0m\u001b[0m\n\u001b[0;32m    336\u001b[0m         \"\"\"\n\u001b[1;32m--> 337\u001b[1;33m         \u001b[0mobj\u001b[0m\u001b[1;33m,\u001b[0m \u001b[0mend\u001b[0m \u001b[1;33m=\u001b[0m \u001b[0mself\u001b[0m\u001b[1;33m.\u001b[0m\u001b[0mraw_decode\u001b[0m\u001b[1;33m(\u001b[0m\u001b[0ms\u001b[0m\u001b[1;33m,\u001b[0m \u001b[0midx\u001b[0m\u001b[1;33m=\u001b[0m\u001b[0m_w\u001b[0m\u001b[1;33m(\u001b[0m\u001b[0ms\u001b[0m\u001b[1;33m,\u001b[0m \u001b[1;36m0\u001b[0m\u001b[1;33m)\u001b[0m\u001b[1;33m.\u001b[0m\u001b[0mend\u001b[0m\u001b[1;33m(\u001b[0m\u001b[1;33m)\u001b[0m\u001b[1;33m)\u001b[0m\u001b[1;33m\u001b[0m\u001b[1;33m\u001b[0m\u001b[0m\n\u001b[0m\u001b[0;32m    338\u001b[0m         \u001b[0mend\u001b[0m \u001b[1;33m=\u001b[0m \u001b[0m_w\u001b[0m\u001b[1;33m(\u001b[0m\u001b[0ms\u001b[0m\u001b[1;33m,\u001b[0m \u001b[0mend\u001b[0m\u001b[1;33m)\u001b[0m\u001b[1;33m.\u001b[0m\u001b[0mend\u001b[0m\u001b[1;33m(\u001b[0m\u001b[1;33m)\u001b[0m\u001b[1;33m\u001b[0m\u001b[1;33m\u001b[0m\u001b[0m\n\u001b[0;32m    339\u001b[0m         \u001b[1;32mif\u001b[0m \u001b[0mend\u001b[0m \u001b[1;33m!=\u001b[0m \u001b[0mlen\u001b[0m\u001b[1;33m(\u001b[0m\u001b[0ms\u001b[0m\u001b[1;33m)\u001b[0m\u001b[1;33m:\u001b[0m\u001b[1;33m\u001b[0m\u001b[1;33m\u001b[0m\u001b[0m\n",
      "\u001b[1;32m~\\Anaconda3\\lib\\json\\decoder.py\u001b[0m in \u001b[0;36mraw_decode\u001b[1;34m(self, s, idx)\u001b[0m\n\u001b[0;32m    353\u001b[0m             \u001b[0mobj\u001b[0m\u001b[1;33m,\u001b[0m \u001b[0mend\u001b[0m \u001b[1;33m=\u001b[0m \u001b[0mself\u001b[0m\u001b[1;33m.\u001b[0m\u001b[0mscan_once\u001b[0m\u001b[1;33m(\u001b[0m\u001b[0ms\u001b[0m\u001b[1;33m,\u001b[0m \u001b[0midx\u001b[0m\u001b[1;33m)\u001b[0m\u001b[1;33m\u001b[0m\u001b[1;33m\u001b[0m\u001b[0m\n\u001b[0;32m    354\u001b[0m         \u001b[1;32mexcept\u001b[0m \u001b[0mStopIteration\u001b[0m \u001b[1;32mas\u001b[0m \u001b[0merr\u001b[0m\u001b[1;33m:\u001b[0m\u001b[1;33m\u001b[0m\u001b[1;33m\u001b[0m\u001b[0m\n\u001b[1;32m--> 355\u001b[1;33m             \u001b[1;32mraise\u001b[0m \u001b[0mJSONDecodeError\u001b[0m\u001b[1;33m(\u001b[0m\u001b[1;34m\"Expecting value\"\u001b[0m\u001b[1;33m,\u001b[0m \u001b[0ms\u001b[0m\u001b[1;33m,\u001b[0m \u001b[0merr\u001b[0m\u001b[1;33m.\u001b[0m\u001b[0mvalue\u001b[0m\u001b[1;33m)\u001b[0m \u001b[1;32mfrom\u001b[0m \u001b[1;32mNone\u001b[0m\u001b[1;33m\u001b[0m\u001b[1;33m\u001b[0m\u001b[0m\n\u001b[0m\u001b[0;32m    356\u001b[0m         \u001b[1;32mreturn\u001b[0m \u001b[0mobj\u001b[0m\u001b[1;33m,\u001b[0m \u001b[0mend\u001b[0m\u001b[1;33m\u001b[0m\u001b[1;33m\u001b[0m\u001b[0m\n",
      "\u001b[1;31mJSONDecodeError\u001b[0m: Expecting value: line 1 column 1 (char 0)"
     ]
    }
   ],
   "source": [
    "# Удалить Канаду\n",
    "r = requests.delete('http://127.0.0.1:5000/country/2')\n",
    "print(r.status_code)"
   ]
  },
  {
   "cell_type": "code",
   "execution_count": 18,
   "metadata": {},
   "outputs": [
    {
     "name": "stdout",
     "output_type": "stream",
     "text": [
      "204\n"
     ]
    }
   ],
   "source": [
    "# удалить ленинградскую область\n",
    "\n",
    "r = requests.delete('http://127.0.0.1:5000/region/24')\n",
    "print(r.status_code)"
   ]
  },
  {
   "cell_type": "code",
   "execution_count": null,
   "metadata": {},
   "outputs": [],
   "source": []
  },
  {
   "cell_type": "code",
   "execution_count": null,
   "metadata": {},
   "outputs": [],
   "source": []
  },
  {
   "cell_type": "code",
   "execution_count": 12,
   "metadata": {},
   "outputs": [],
   "source": [
    "json.dump?"
   ]
  },
  {
   "cell_type": "code",
   "execution_count": 2,
   "metadata": {},
   "outputs": [
    {
     "name": "stdout",
     "output_type": "stream",
     "text": [
      "200\n",
      "[{'OrganizationId': 1, 'OrganizationName': 'Центральное управление по гидрометеорологии и мониторингу окружающей среды', 'Address': 'ул. Образцова, д.6', 'WebSite': 'http://www.ecomos.ru/', 'LocalityId': 1}]\n"
     ]
    }
   ],
   "source": [
    "# обновление сведений о организации\n",
    "\n",
    "upd_organisation = {\n",
    "    \"WebSite\": \"http://www.ecomos.ru/\"\n",
    "}\n",
    "\n",
    "r = requests.patch('http://127.0.0.1:5000/organization/1', json=upd_organisation)\n",
    "print(r.status_code)\n",
    "print(r.json())"
   ]
  },
  {
   "cell_type": "code",
   "execution_count": 3,
   "metadata": {},
   "outputs": [
    {
     "name": "stdout",
     "output_type": "stream",
     "text": [
      "400\n"
     ]
    }
   ],
   "source": [
    "# Удаление организации\n",
    "\n",
    "r = requests.delete('http://127.0.0.1:5000/organization/3')\n",
    "print(r.status_code)"
   ]
  }
 ],
 "metadata": {
  "kernelspec": {
   "display_name": "Python 3",
   "language": "python",
   "name": "python3"
  },
  "language_info": {
   "codemirror_mode": {
    "name": "ipython",
    "version": 3
   },
   "file_extension": ".py",
   "mimetype": "text/x-python",
   "name": "python",
   "nbconvert_exporter": "python",
   "pygments_lexer": "ipython3",
   "version": "3.7.7"
  }
 },
 "nbformat": 4,
 "nbformat_minor": 4
}
